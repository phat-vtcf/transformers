{
 "cells": [
  {
   "cell_type": "code",
   "execution_count": 2,
   "id": "637c46f8",
   "metadata": {},
   "outputs": [],
   "source": [
    "import os\n",
    "import torch\n",
    "import jiwer\n",
    "import librosa\n",
    "\n",
    "from transformers import Wav2Vec2ForCTC, Wav2Vec2Processor"
   ]
  },
  {
   "cell_type": "code",
   "execution_count": 3,
   "id": "7a6e78dd",
   "metadata": {},
   "outputs": [
    {
     "name": "stderr",
     "output_type": "stream",
     "text": [
      "Some weights of Wav2Vec2ForCTC were not initialized from the model checkpoint at facebook/wav2vec2-base-960h and are newly initialized: ['wav2vec2.masked_spec_embed']\n",
      "You should probably TRAIN this model on a down-stream task to be able to use it for predictions and inference.\n"
     ]
    }
   ],
   "source": [
    "# load pretrained model\n",
    "processor = Wav2Vec2Processor.from_pretrained(\"facebook/wav2vec2-base-960h\")\n",
    "model = Wav2Vec2ForCTC.from_pretrained(\"facebook/wav2vec2-base-960h\")"
   ]
  },
  {
   "cell_type": "code",
   "execution_count": 4,
   "id": "f9e3ab44",
   "metadata": {},
   "outputs": [],
   "source": [
    "def wav2vec_inference(wav_file):\n",
    "\n",
    "    # load audio\n",
    "    audio_input, sample_rate = librosa.load(wav_file, sr=16000)\n",
    "\n",
    "    # tokenize audio input with the wav2vec2 transformer model\n",
    "    input_values = processor(audio_input, sampling_rate=sample_rate, return_tensors=\"pt\").input_values\n",
    "\n",
    "    #INFERENCE\n",
    "\n",
    "    # retrieve logits & take argmax\n",
    "    logits = model(input_values).logits\n",
    "    predicted_ids = torch.argmax(logits, dim=-1)\n",
    "\n",
    "    #transcribe prediction\n",
    "    transcription = processor.decode(predicted_ids[0])\n",
    "\n",
    "    return transcription"
   ]
  },
  {
   "cell_type": "code",
   "execution_count": 5,
   "id": "e0abb4b2",
   "metadata": {},
   "outputs": [],
   "source": [
    "# the original transcription of the read speech\n",
    "original_text = \"THE NORTH WIND AND THE SUN WERE DISPUTING WHICH WAS THE STRONGER WHEN A TRAVELLER CAME ALONG WRAPPED IN A WARM CLOAK THEY AGREED THAT THE ONE WHO FIRST SUCCEEDED IN MAKING THE TRAVELLER TAKE HIS CLOAK OFF SHOULD BE CONSIDERED STRONGER THAN THE OTHER THEN THE NORTH WIND BLEW AS HARD AS HE COULD BUT THE MORE HE BLEW THE MORE CLOSELY DID THE TRAVELLER FOLD HIS CLOAK AROUND HIM AND AT LAST THE NORTH WIND GAVE UP THE ATTEMPT THEN THE SUN SHINED OUT WARMLY AND IMMEDIATELY THE TRAVELLER TOOK OFF HIS CLOAK AND SO THE NORTH WIND WAS OBLIGED TO CONFESS THAT THE SUN WAS THE STRONGER OF THE TWO\""
   ]
  },
  {
   "cell_type": "code",
   "execution_count": 6,
   "id": "e231bf22",
   "metadata": {},
   "outputs": [
    {
     "name": "stdout",
     "output_type": "stream",
     "text": [
      "Original transcription:\n",
      "THE NORTH WIND AND THE SUN WERE DISPUTING WHICH WAS THE STRONGER WHEN A TRAVELLER CAME ALONG WRAPPED IN A WARM CLOAK THEY AGREED THAT THE ONE WHO FIRST SUCCEEDED IN MAKING THE TRAVELLER TAKE HIS CLOAK OFF SHOULD BE CONSIDERED STRONGER THAN THE OTHER THEN THE NORTH WIND BLEW AS HARD AS HE COULD BUT THE MORE HE BLEW THE MORE CLOSELY DID THE TRAVELLER FOLD HIS CLOAK AROUND HIM AND AT LAST THE NORTH WIND GAVE UP THE ATTEMPT THEN THE SUN SHINED OUT WARMLY AND IMMEDIATELY THE TRAVELLER TOOK OFF HIS CLOAK AND SO THE NORTH WIND WAS OBLIGED TO CONFESS THAT THE SUN WAS THE STRONGER OF THE TWO\n",
      "\n",
      "Prediction of leminh-wind-09092021.wav:\n",
      "THE NORTH WIND AND THE SUN WERE DISPUTING WHICH WAS THE STRONGER WHEN HE TRAVELLER CAME ALONG WRAPPED IN A WARM CLOAK DAY AGREED THAT THE ONE WHO FIRST SUCCEEDED IN MAKING THE TRAVELR TAKE HIS CLOAK OFF SHOULD BE CONSIDERED STRONGER THAN THE OTHER THEN THE NORTH WIND BLEW AS HARD AS HE COULD BUT THE MORE HE BLEW THE MORE CLOSELY TID THE TRAVELLER FOGT HIS CLOAK AROUND HIM AND AT LAST THE NORTH WIND GAVE UP THE ATTEMPT THEN THE SUN SHUNED OUT WARMLY AND IMMEDIDAELY THE TRAVELLER TOOK OFF HIS CLOAK AND SO THE NORTH WIND WAS OBLIGED TO CONFESS THAT THE SUN WAS THE STRONGER OFF THE TWIAK\n",
      "\n",
      "Prediction of tatsu-wind-09092021.wav:\n",
      "THE NOSE WIND AND THE SOUND WERE DISPUTING REACHERS ASLONGER WHEN A TRAVELLER CAME ALONG WRAPPED IN THE WARM CLOAK THEY AGLEED AT THE ONE TOO FAR SUCCEEDED IN MAKING THE TRAVELLER TAKE HIS CLOAK OFF SHOULD BE CONSIDERED SLONGER THAN THE OTHER THEN THE NOSE BIND BLEW AS HARD AS HE COULD BUT THE MORE HE BLEW THE MORE CLOSELY DID THE TRAVELLER FOR HIS CLOAK ROUN HIM AND AT LAST THE NOSE WIND GAVE UP THE ATTEMPT THEN THE SUN SHINE OUT WARMLY AND IMMEDIATELY THE TRAVELLER TOOK OFF HIS CLOAK AND SO THE NOSE WIND WAS OBLIGED TO CONFESS THAT THE SOUND WAS A SLONGER OUT TOR TWO\n"
     ]
    }
   ],
   "source": [
    "leminh_recording = 'audio_samples/leminh-wind-09092021.wav'\n",
    "tatsu_recording = 'audio_samples/tatsu-wind-09092021.wav'\n",
    "\n",
    "# get prediction of our audio recordings\n",
    "print(f'Original transcription:\\n{original_text}')\n",
    "print()\n",
    "leminh_prediction = wav2vec_inference(leminh_recording)\n",
    "print(f'Prediction of {os.path.basename(leminh_recording)}:\\n{leminh_prediction}')\n",
    "print()\n",
    "tatsu_prediction = wav2vec_inference(tatsu_recording)\n",
    "print(f'Prediction of {os.path.basename(tatsu_recording)}:\\n{tatsu_prediction}')"
   ]
  },
  {
   "cell_type": "markdown",
   "id": "4f69013e",
   "metadata": {},
   "source": [
    "## The code snippet below is for WER calcutation."
   ]
  },
  {
   "cell_type": "code",
   "execution_count": 7,
   "id": "289dae0d",
   "metadata": {},
   "outputs": [
    {
     "name": "stdout",
     "output_type": "stream",
     "text": [
      "WER_leminh: 7.96% WER\n",
      "WER_tatsu: 21.24% WER\n"
     ]
    }
   ],
   "source": [
    "from jiwer import wer\n",
    "\n",
    "# WER is calculated in percentage.\n",
    "WER_leminh = round(wer(original_text, leminh_prediction)*100, 2)\n",
    "WER_tatsu = round(wer(original_text, tatsu_prediction)*100, 2)\n",
    "\n",
    "print(f'WER_leminh: {WER_leminh}% WER')\n",
    "print(f'WER_tatsu: {WER_tatsu}% WER')"
   ]
  }
 ],
 "metadata": {
  "kernelspec": {
   "display_name": "Python 3 (ipykernel)",
   "language": "python",
   "name": "python3"
  },
  "language_info": {
   "codemirror_mode": {
    "name": "ipython",
    "version": 3
   },
   "file_extension": ".py",
   "mimetype": "text/x-python",
   "name": "python",
   "nbconvert_exporter": "python",
   "pygments_lexer": "ipython3",
   "version": "3.9.7"
  }
 },
 "nbformat": 4,
 "nbformat_minor": 5
}
