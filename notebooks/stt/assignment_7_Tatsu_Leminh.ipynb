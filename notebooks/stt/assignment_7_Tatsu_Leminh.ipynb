{
 "cells": [
  {
   "cell_type": "code",
   "execution_count": 1,
   "id": "637c46f8",
   "metadata": {},
   "outputs": [],
   "source": [
    "import torch\n",
    "import librosa\n",
    "\n",
    "from transformers import Wav2Vec2ForCTC, Wav2Vec2Processor"
   ]
  },
  {
   "cell_type": "code",
   "execution_count": 2,
   "id": "7a6e78dd",
   "metadata": {},
   "outputs": [
    {
     "name": "stderr",
     "output_type": "stream",
     "text": [
      "Some weights of Wav2Vec2ForCTC were not initialized from the model checkpoint at facebook/wav2vec2-base-960h and are newly initialized: ['wav2vec2.masked_spec_embed']\n",
      "You should probably TRAIN this model on a down-stream task to be able to use it for predictions and inference.\n"
     ]
    }
   ],
   "source": [
    "# load pretrained model\n",
    "processor = Wav2Vec2Processor.from_pretrained(\"facebook/wav2vec2-base-960h\")\n",
    "model = Wav2Vec2ForCTC.from_pretrained(\"facebook/wav2vec2-base-960h\")"
   ]
  },
  {
   "cell_type": "code",
   "execution_count": 3,
   "id": "7a60fd4c",
   "metadata": {},
   "outputs": [],
   "source": [
    "# load audio\n",
    "audio_input, sample_rate = librosa.load('audio_samples/leminh-wind-09092021.wav', sr=16000)"
   ]
  },
  {
   "cell_type": "code",
   "execution_count": 4,
   "id": "b9f6ef6c",
   "metadata": {},
   "outputs": [],
   "source": [
    "# pad input values and return pt tensor\n",
    "input_values = processor(audio_input, sampling_rate=sample_rate, return_tensors=\"pt\").input_values\n",
    "\n",
    "# INFERENCE\n",
    "\n",
    "# retrieve logits & take argmax\n",
    "logits = model(input_values).logits\n",
    "predicted_ids = torch.argmax(logits, dim=-1)\n",
    "\n",
    "# transcribe\n",
    "transcription = processor.decode(predicted_ids[0])"
   ]
  },
  {
   "cell_type": "code",
   "execution_count": 5,
   "id": "bc93d3fa",
   "metadata": {},
   "outputs": [
    {
     "name": "stdout",
     "output_type": "stream",
     "text": [
      "THE NORTH WIND AND THE SUN WERE DISPUTING WHICH WAS THE STRONGER WHEN HE TRAVELLER CAME ALONG WRAPPED IN A WARM CLOAK DAY AGREED THAT THE ONE WHO FIRST SUCCEEDED IN MAKING THE TRAVELR TAKE HIS CLOAK OFF SHOULD BE CONSIDERED STRONGER THAN THE OTHER THEN THE NORTH WIND BLEW AS HARD AS HE COULD BUT THE MORE HE BLEW THE MORE CLOSELY TID THE TRAVELLER FOGT HIS CLOAK AROUND HIM AND AT LAST THE NORTH WIND GAVE UP THE ATTEMPT THEN THE SUN SHUNED OUT WARMLY AND IMMEDIDAELY THE TRAVELLER TOOK OFF HIS CLOAK AND SO THE NORTH WIND WAS OBLIGED TO CONFESS THAT THE SUN WAS THE STRONGER OFF THE TWIAK\n"
     ]
    }
   ],
   "source": [
    "print(transcription)"
   ]
  },
  {
   "cell_type": "markdown",
   "metadata": {},
   "source": [
    "## The code snippet below is for WER calcutation."
   ]
  },
  {
   "cell_type": "code",
   "execution_count": null,
   "metadata": {},
   "outputs": [],
   "source": [
    "from jiwer import wer\n",
    "\n",
    "# the script for the dictation\n",
    "original_text = \"THE NORTH WIND AND THE SUN WERE DISPUTING WHICH WAS THE STRONGER WHEN HE TRAVELLER CAME ALONG WRAPPED IN A WARM CLOAK DAY AGREED THAT THE ONE WHO FIRST SUCCEEDED IN MAKING THE TRAVELR TAKE HIS CLOAK OFF SHOULD BE CONSIDERED STRONGER THAN THE OTHER THEN THE NORTH WIND BLEW AS HARD AS HE COULD BUT THE MORE HE BLEW THE MORE CLOSELY TID THE TRAVELLER FOGT HIS CLOAK AROUND HIM AND AT LAST THE NORTH WIND GAVE UP THE ATTEMPT THEN THE SUN SHUNED OUT WARMLY AND IMMEDIDAELY THE TRAVELLER TOOK OFF HIS CLOAK AND SO THE NORTH WIND WAS OBLIGED TO CONFESS THAT THE SUN WAS THE STRONGER OFF THE TWIAK\"\n",
    "\n",
    "# WER is calculated in percentage.\n",
    "WER_leminh = wer(original_text, leminh_prediction)\n",
    "WER_tatsu = wer(original_text, tatsu_prediction)\n",
    "\n",
    "print(wer)"
   ]
  }
 ],
 "metadata": {
  "kernelspec": {
   "display_name": "Python 3 (ipykernel)",
   "language": "python",
   "name": "python3"
  },
  "language_info": {
   "codemirror_mode": {
    "name": "ipython",
    "version": 3
   },
   "file_extension": ".py",
   "mimetype": "text/x-python",
   "name": "python",
   "nbconvert_exporter": "python",
   "pygments_lexer": "ipython3",
   "version": "3.9.7"
  }
 },
 "nbformat": 4,
 "nbformat_minor": 5
}
